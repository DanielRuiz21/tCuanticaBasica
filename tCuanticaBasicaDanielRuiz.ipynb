{
 "cells": [
  {
   "cell_type": "markdown",
   "metadata": {},
   "source": [
    "## Teoría cuántica básica, observables y medidas"
   ]
  },
  {
   "cell_type": "markdown",
   "metadata": {},
   "source": [
    "CNYT\n",
    "\n",
    "Daniel Felipe Ruiz Bermúdez"
   ]
  },
  {
   "cell_type": "code",
   "execution_count": null,
   "metadata": {},
   "outputs": [
    {
     "name": "stdout",
     "output_type": "stream",
     "text": [
      "(-3-1j)\n",
      "0.5263157894736843\n"
     ]
    }
   ],
   "source": [
    "import numpy as np\n",
    "\n",
    "numPuntos = int(input())  ## Numero de puntos que puede ocupar la partícula\n",
    "\n",
    "amplitudes = input() ## Las amplitudez se deben dar separadas por comas: j, 2j, 3+j, 2\n",
    "\n",
    "ket = np.array([complex(x) for x in amplitudes.split(\",\")])\n",
    "\n",
    "print(ket[0])\n",
    "\n",
    "posicion = input()\n",
    "\n",
    "def probPosicion(ket, posicion):   ## La posicion se debe dar como xn, por ejemplo, x0,x1,x2\n",
    "    posiX = int(posicion[1:])\n",
    "\n",
    "    moduloCuadradoPosicion = np.abs(ket[posiX])**2\n",
    "    magnitudKet = np.sum(np.abs(ket)**2)\n",
    "    \n",
    "\n",
    "    probabilidad = moduloCuadradoPosicion / magnitudKet\n",
    "\n",
    "    return probabilidad\n",
    "\n",
    "print(probPosicion(ket, posicion))"
   ]
  },
  {
   "cell_type": "markdown",
   "metadata": {},
   "source": [
    "## Retos Capítulo 4\n"
   ]
  },
  {
   "cell_type": "markdown",
   "metadata": {},
   "source": [
    "#### Probabilidad de transición\n"
   ]
  },
  {
   "cell_type": "code",
   "execution_count": 6,
   "metadata": {},
   "outputs": [
    {
     "name": "stdout",
     "output_type": "stream",
     "text": [
      "1.0\n"
     ]
    }
   ],
   "source": [
    "\n",
    "amplitud1 = input()\n",
    "ketInicial = [complex(x) for x in amplitud1.split(\",\")] \n",
    "\n",
    "amplitud2 = input()\n",
    "ketFinal = [complex(x) for x in amplitud2.split(\",\")] \n",
    "\n",
    "def probTransición(ketSalida, ketLlegada):\n",
    "    productoInterno = np.vdot(ketLlegada, ketSalida)\n",
    "\n",
    "    magnitudEstInicial = np.sum(np.abs(ketSalida)**2)\n",
    "    magnitudEstLlegada = np.sum(np.abs(ketLlegada)**2)\n",
    "\n",
    "    probTransicion = (np.abs(productoInterno)**2) / (magnitudEstInicial * magnitudEstLlegada)\n",
    "\n",
    "    return probTransicion\n",
    "\n",
    "print(probTransición(ketInicial, ketFinal))"
   ]
  },
  {
   "cell_type": "markdown",
   "metadata": {},
   "source": [
    "#### Valor esperado y Varianza\n",
    "\n",
    "con una matriz que describa un observable y un vector ket, el sistema revisa que la matriz sea hermitiana, y si lo es, calcula la media y la varianza del observable en el estado dado."
   ]
  },
  {
   "cell_type": "code",
   "execution_count": null,
   "metadata": {},
   "outputs": [],
   "source": [
    "import numpy as np\n",
    "\n",
    "matrix = input()\n",
    "ket = input()\n",
    "\n",
    "### Se recibe la matriz como el siguiente ejemplo: \"[[2,3],[4,5]]\" sin espacios después de la coma\n",
    "def vEsperadoYVarianza(matrix, ketp):\n",
    "    matriz = np.array(eval(matrix))\n",
    "    ket = np.array(eval(ketp))\n",
    "    is_hermitian = np.allclose(matriz, matriz.conj().T)\n",
    "\n",
    "    if is_hermitian:\n",
    "        \n",
    "        valorEsperado=\n",
    "\n",
    "    \n",
    "\n",
    "\n",
    "vEsperadoYVarianza(matrix, ket)\n",
    "    \n"
   ]
  }
 ],
 "metadata": {
  "kernelspec": {
   "display_name": ".venv",
   "language": "python",
   "name": "python3"
  },
  "language_info": {
   "codemirror_mode": {
    "name": "ipython",
    "version": 3
   },
   "file_extension": ".py",
   "mimetype": "text/x-python",
   "name": "python",
   "nbconvert_exporter": "python",
   "pygments_lexer": "ipython3",
   "version": "3.11.1"
  }
 },
 "nbformat": 4,
 "nbformat_minor": 2
}
